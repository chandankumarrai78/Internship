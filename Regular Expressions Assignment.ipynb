{
 "cells": [
  {
   "cell_type": "code",
   "execution_count": null,
   "id": "de0e7889",
   "metadata": {},
   "outputs": [],
   "source": [
    "# Question 1- Write a Python program to replace all occurrences of a space, comma, or dot with a colon.\n",
    "\n",
    "import re\n",
    "text = 'Python Exercises, PHP exercises.'\n",
    "result = re.sub('\\s|,|\\.', ':', text)\n",
    "print(result)"
   ]
  },
  {
   "cell_type": "code",
   "execution_count": null,
   "id": "992881a3",
   "metadata": {},
   "outputs": [],
   "source": [
    "# Question 3- Create a function in python to find all words that are at least 4 characters long in a string. The use of the re.compile() method is mandatory.\n",
    "import re\n",
    "pattern =re.compile(\"\\w{4}\")\n",
    "text =\"Data Science is a stream and it is a part of AI. You can solve many complex problems using Data Science tools and techs\"\n",
    "\n",
    "result = pattern.findall(text)\n",
    "print(result)"
   ]
  },
  {
   "cell_type": "code",
   "execution_count": null,
   "id": "c786c681",
   "metadata": {},
   "outputs": [],
   "source": [
    "# Question 4- Create a function in python to find all three, four, and five character words in a string. The use of the re.compile() method is mandatory.\n",
    "\n",
    "import re\n",
    "pattern =re.compile(\"\\w{3,5}\")\n",
    "text =\"Data Science is a stream and it is a part of AI. You can solve many complex problems using Data Science tools and techs\"\n",
    "\n",
    "result = pattern.findall(text)\n",
    "print(result)"
   ]
  },
  {
   "cell_type": "code",
   "execution_count": null,
   "id": "7efad321",
   "metadata": {},
   "outputs": [],
   "source": [
    "# Question 5- Create a function in Python to remove the parenthesis in a list of strings. The use of the re.compile() method is mandatory.\n",
    "\n",
    "import re\n",
    "pattern =re.compile(\"\\(|\\)\")\n",
    "text =[\"example (.com)\", \"hr@fliprobo (.com)\", \"github (.com)\", \"Hello (Data Science World)\", \"Data (Scientist)\"]\n",
    "\n",
    "for data in text:\n",
    "    result =pattern.sub(\"\",data)\n",
    "    print(result)"
   ]
  },
  {
   "cell_type": "code",
   "execution_count": null,
   "id": "0610e890",
   "metadata": {},
   "outputs": [],
   "source": [
    "# Question 7- Write a regular expression in Python to split a string into uppercase letters.\n",
    "\n",
    "text =\"ImportanceOfRegularExpressionsInPython\"\n",
    "result = re.findall(\"([A-Z][^A-Z]*)\", text)\n",
    "\n",
    "print(result)\n"
   ]
  },
  {
   "cell_type": "code",
   "execution_count": null,
   "id": "3be60f4a",
   "metadata": {},
   "outputs": [],
   "source": [
    "# Question 8- Create a function in python to insert spaces between words starting with numbers.\n",
    "\n",
    "import re\n",
    "Text =\"RegularExpression1IsAn2ImportantTopic3InPython\"\n",
    "    \n",
    "result =re.findall(r'[A-Za-z]+[0-9]*', Text)\n",
    "print (result)\n",
    "\n",
    "print(' '.join(result))"
   ]
  },
  {
   "cell_type": "code",
   "execution_count": null,
   "id": "97e74171",
   "metadata": {},
   "outputs": [],
   "source": [
    "# Question 9- Create a function in python to insert spaces between words starting with capital letters or with numbers.\n",
    "\n",
    "import re\n",
    "text =\"RegularExpression1IsAn2ImportantTopic3InPython\"\n",
    "result =re.findall('[A-Za-z]+|[0-9]', text)\n",
    "print(' '.join(result))"
   ]
  },
  {
   "cell_type": "code",
   "execution_count": null,
   "id": "72448979",
   "metadata": {},
   "outputs": [],
   "source": [
    "# Question 11- Write a Python program to match a string that contains only upper and lowercase letters, numbers, and underscores.\n",
    "\n",
    "import re\n",
    "text =\"_RegularExpression1IsAn2ImportantTopic3InPython\"\n",
    "result =re.findall('^[A-Za-z0-9_]*', text)\n",
    "print(result)"
   ]
  },
  {
   "cell_type": "code",
   "execution_count": null,
   "id": "4bd3e482",
   "metadata": {},
   "outputs": [],
   "source": [
    "# Question 12- Write a Python program where a string will start with a specific number.\n",
    "\n",
    "text =\"12text start with 1\"\n",
    "result =re.findall('[1][A-Za-z]+', text)\n",
    "print(result)"
   ]
  },
  {
   "cell_type": "code",
   "execution_count": null,
   "id": "c97dcb36",
   "metadata": {},
   "outputs": [],
   "source": [
    "# Question 13- Write a Python program to remove leading zeros from an IP address\n",
    "text ='00010.101.20.05'\n",
    "result =re.sub('^0+', '', text)\n",
    "print(result)"
   ]
  },
  {
   "cell_type": "code",
   "execution_count": null,
   "id": "1131cf6f",
   "metadata": {},
   "outputs": [],
   "source": [
    "# Question 14- Write a regular expression in python to match a date string in the form of Month name followed by day number and year stored in a text file.\n",
    "\n",
    "text =\"On August 15th 1947 that India was declared independent from British colonialism, and the reins of control were handed over to the leaders of the Country\"\n",
    "pattern ='\\w{5,9}\\s\\d{2}\\w{2}\\s\\d{4}'\n",
    "\n",
    "result =re.findall(pattern, text)\n",
    "print(result)"
   ]
  },
  {
   "cell_type": "code",
   "execution_count": null,
   "id": "48272a5b",
   "metadata": {},
   "outputs": [],
   "source": [
    "# Question 15- Write a Python program to search some literals strings in a string.\n",
    "\n",
    "text ='The quick brown fox jumps over the lazy dog.'\n",
    "result =re.findall('fox|dog|horse', text)\n",
    "print(result)"
   ]
  },
  {
   "cell_type": "code",
   "execution_count": null,
   "id": "0d010e1e",
   "metadata": {},
   "outputs": [],
   "source": [
    "# Question 16- Write a Python program to search a literals string in a string and also find the location within the original string where the pattern occurs\n",
    "\n",
    "text ='The quick brown fox jumps over the lazy dog.'\n",
    "pattern ='[A-Zz-z0-9\\s](fox){3}'\n",
    "result =re.search(pattern, text)\n",
    "print(result)"
   ]
  },
  {
   "cell_type": "code",
   "execution_count": null,
   "id": "77161c5a",
   "metadata": {},
   "outputs": [],
   "source": [
    "# Question 17- Write a Python program to find the substrings within a string.\n",
    "\n",
    "import re\n",
    "text ='Python exercises, PHP exercises, C# exercises'\n",
    "result =re.findall('(exercises)', text)\n",
    "print(result)"
   ]
  },
  {
   "cell_type": "code",
   "execution_count": null,
   "id": "96d6480f",
   "metadata": {},
   "outputs": [],
   "source": [
    "#Question 18- Write a Python program to find the occurrence and position of the substrings within a string.\n",
    "\n",
    "import re\n",
    "text ='Python exercises, PHP exercises, C# exercises'\n",
    "result =re.search('(exercises)', text)\n",
    "print(result)\n",
    "print(\"No. of occurances: \",len(re.findall('(exercises)', text)))"
   ]
  },
  {
   "cell_type": "code",
   "execution_count": null,
   "id": "209f5676",
   "metadata": {},
   "outputs": [],
   "source": [
    "# Question 19- Write a Python program to convert a date of yyyy-mm-dd format to dd-mm-yyyy format.\n",
    "\n",
    "date ='2023-12-24'\n",
    "newdate =re.search('(\\d{4})-(\\d{2})-(\\d{2})', date)\n",
    "\n",
    "print(\"Old Date :\", date)\n",
    "print(\"New Date :\", '-'.join(newdate.group(3,2,1)))"
   ]
  },
  {
   "cell_type": "code",
   "execution_count": null,
   "id": "04da3295",
   "metadata": {},
   "outputs": [],
   "source": [
    "# Question 21- Write a Python program to separate and print the numbers and their position of a given string.\n",
    "\n",
    "text = \"There are 12 oranges in the basket\"\n",
    "position =re.search('\\d+', text)\n",
    "print(\"Position :\",position.span())\n",
    "print(\"Match Number :\", position.group())"
   ]
  },
  {
   "cell_type": "code",
   "execution_count": null,
   "id": "27310ec9",
   "metadata": {},
   "outputs": [],
   "source": [
    "# Question 22- Write a regular expression in python program to extract maximum/largest numeric value from a string.\n",
    "\n",
    "text ='My marks in each semester are: 947, 896, 926, 524, 734, 950, 642'\n",
    "result =re.findall('\\d+', text)\n",
    "\n",
    "print(\"List of Number are :\", result)\n",
    "print(\"Maximum Number is \", max(result))"
   ]
  },
  {
   "cell_type": "code",
   "execution_count": null,
   "id": "5a70048a",
   "metadata": {},
   "outputs": [],
   "source": [
    "# Question 23- Create a function in python to insert spaces between words starting with capital letters.\n",
    "\n",
    "\n",
    "def capitalletter(text):\n",
    "    return re.sub(r'([a-zA-Z0-9])([A-Z])', r'\\1 \\2', text)\n",
    "    \n",
    "print(capitalletter('RegularExpressionIsAnImportantTopicInPython'))\n"
   ]
  },
  {
   "cell_type": "code",
   "execution_count": null,
   "id": "3c7bb58a",
   "metadata": {},
   "outputs": [],
   "source": [
    "# Question 24- Python regex to find sequences of one upper case letter followed by lower case letters\n",
    "\n",
    "text =\"Regular\"\n",
    "text1 =\"regular\"\n",
    "\n",
    "result =re.findall('[A-Z]+[a-z]+$', text)\n",
    "print(result)"
   ]
  },
  {
   "cell_type": "code",
   "execution_count": null,
   "id": "59d8edfe",
   "metadata": {},
   "outputs": [],
   "source": [
    "# Question 26-  Write a python program using RegEx to accept string ending with alphanumeric character.\n",
    "\n",
    "text ='The Alpha123'\n",
    "result =re.search('[a-zA-Z0-9]$', text)\n",
    "print(result)"
   ]
  },
  {
   "cell_type": "code",
   "execution_count": null,
   "id": "4df8a41c",
   "metadata": {},
   "outputs": [],
   "source": [
    "# Question 27-Write a python program using RegEx to extract the hashtags.\n",
    "\n",
    "text =  \"\"\"RT @kapil_kausik: #Doltiwal I mean #xyzabc is \"hurt\" by #Demonetization as the \n",
    "            same has rendered USELESS <ed><U+00A0><U+00BD><ed><U+00B1><U+0089> \"acquired funds\" No wo\"\"\"\n",
    "    \n",
    "result =re.findall('#(\\w+)', text)\n",
    "\n",
    "for each in result:\n",
    "    result ='#'+each\n",
    "    print (result)\n",
    "    \n",
    "    "
   ]
  },
  {
   "cell_type": "code",
   "execution_count": null,
   "id": "27046a13",
   "metadata": {},
   "outputs": [],
   "source": [
    "# Question 29- Write a python program to extract dates from the text stored in the text file.\n",
    "\n",
    "text ='Ron was born on 12-09-1992 and he was admitted to school 15-12-1999.'\n",
    "pattern ='\\d{2}-\\d{2}-\\d{4}'\n",
    "\n",
    "result =re.findall(pattern, text)\n",
    "print(result)\n"
   ]
  },
  {
   "cell_type": "code",
   "execution_count": null,
   "id": "45629e05",
   "metadata": {},
   "outputs": [],
   "source": [
    "# Question 30- Create a function in python to remove all words from a string of length between 2 and 4.\n",
    "\n",
    "text =\"\"\"The following example creates an ArrayList with a capacity of 50 elements. 4 elements are \n",
    "        then added to the ArrayList and the ArrayList is trimmed accordingly.\"\"\"\n",
    "pattern =re.compile(r'\\W*\\b\\w{2,4}\\b')\n",
    "\n",
    "result =pattern.sub(\"\", text)\n",
    "\n",
    "print(result)"
   ]
  },
  {
   "cell_type": "code",
   "execution_count": null,
   "id": "108e3e66",
   "metadata": {},
   "outputs": [],
   "source": []
  }
 ],
 "metadata": {
  "kernelspec": {
   "display_name": "Python 3 (ipykernel)",
   "language": "python",
   "name": "python3"
  },
  "language_info": {
   "codemirror_mode": {
    "name": "ipython",
    "version": 3
   },
   "file_extension": ".py",
   "mimetype": "text/x-python",
   "name": "python",
   "nbconvert_exporter": "python",
   "pygments_lexer": "ipython3",
   "version": "3.11.5"
  }
 },
 "nbformat": 4,
 "nbformat_minor": 5
}
