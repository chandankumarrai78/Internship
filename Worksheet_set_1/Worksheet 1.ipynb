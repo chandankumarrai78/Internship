{
 "cells": [
  {
   "cell_type": "code",
   "execution_count": null,
   "id": "7fc59015",
   "metadata": {},
   "outputs": [],
   "source": [
    "# 11. Write a python program to find the factorial of a number.\n",
    "number =int(input(\"Enter the Number: \"))\n",
    "\n",
    "i =1\n",
    "factorial=1\n",
    "while i < number:\n",
    "    factorial =factorial*(i+1)\n",
    "    i+=1\n",
    "    \n",
    "print(\"Factorial of\",number ,\"is: \", factorial)"
   ]
  },
  {
   "cell_type": "code",
   "execution_count": null,
   "id": "6a318765",
   "metadata": {},
   "outputs": [],
   "source": [
    "# 12. Write a python program to find whether a number is prime or composite.\n",
    "number =int(input(\"Enter the number: \"))\n",
    "\n",
    "i =1\n",
    "counter =0\n",
    "        \n",
    "while i <= (number/2):\n",
    "    if number%i == 0:\n",
    "        counter+=1        # Checking number of divisible numbers\n",
    "    i+=1\n",
    "    \n",
    "if number ==1:\n",
    "    print(\"Number is Neither Prime nor Composite\")\n",
    "            \n",
    "elif counter >=2:\n",
    "        print(\"Number is Composite\")\n",
    "        \n",
    "else:\n",
    "        print(\"Number is Prime\")\n",
    "        \n",
    "    "
   ]
  },
  {
   "cell_type": "code",
   "execution_count": null,
   "id": "a242462f",
   "metadata": {},
   "outputs": [],
   "source": [
    "# 13. Write a python program to check whether a given string is palindrome or not.\n",
    "\n",
    "string =input(\"Enter the string :\")\n",
    "\n",
    "rev_string =[]\n",
    "\n",
    "l =len(string)\n",
    "for i in string:\n",
    "    rev_string.append(string[l-1])\n",
    "    l=l-1\n",
    "    \n",
    "\n",
    "if string ==''.join(rev_string):\n",
    "    print(\"The string is palindrome\")\n",
    "    \n",
    "else:\n",
    "    print(\"The string is not palindrome\")\n",
    "\n",
    "    "
   ]
  },
  {
   "cell_type": "code",
   "execution_count": null,
   "id": "587cc24f",
   "metadata": {},
   "outputs": [],
   "source": [
    "# 14. Write a Python program to get the third side of right-angled triangle from two given sides.\n",
    "\n",
    "import numpy as np\n",
    "\n",
    "perpendicular =int(input(\"Enter the Perpendicular :\"))\n",
    "base =int(input(\"Enter the Base :\"))\n",
    "\n",
    "hypotenuse =np.sqrt(np.square(perpendicular)+np.square(base))\n",
    "print(\"Third side of the right angle triangle is :\", hypotenuse)"
   ]
  },
  {
   "cell_type": "code",
   "execution_count": null,
   "id": "13d44db8",
   "metadata": {},
   "outputs": [],
   "source": [
    "# 15. Write a python program to print the frequency of each of the characters present in a given string.\n",
    "\n",
    "string =\"Chandan\"\n",
    "\n",
    "count ={}\n",
    "for i in string:\n",
    "    if i in count:\n",
    "        count[i]+=1\n",
    "    else:\n",
    "        count[i] =1\n",
    "\n",
    "print(str(count))\n"
   ]
  },
  {
   "cell_type": "code",
   "execution_count": null,
   "id": "50550683",
   "metadata": {},
   "outputs": [],
   "source": []
  },
  {
   "cell_type": "code",
   "execution_count": null,
   "id": "efa599d2",
   "metadata": {},
   "outputs": [],
   "source": []
  }
 ],
 "metadata": {
  "kernelspec": {
   "display_name": "Python 3 (ipykernel)",
   "language": "python",
   "name": "python3"
  },
  "language_info": {
   "codemirror_mode": {
    "name": "ipython",
    "version": 3
   },
   "file_extension": ".py",
   "mimetype": "text/x-python",
   "name": "python",
   "nbconvert_exporter": "python",
   "pygments_lexer": "ipython3",
   "version": "3.11.5"
  }
 },
 "nbformat": 4,
 "nbformat_minor": 5
}
