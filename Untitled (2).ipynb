{
 "cells": [
  {
   "cell_type": "code",
   "execution_count": 3,
   "id": "6abbc537",
   "metadata": {},
   "outputs": [
    {
     "ename": "ValueError",
     "evalue": "Operands are not aligned. Do `left, right = left.align(right, axis=1, copy=False)` before operating.",
     "output_type": "error",
     "traceback": [
      "\u001b[1;31m---------------------------------------------------------------------------\u001b[0m",
      "\u001b[1;31mValueError\u001b[0m                                Traceback (most recent call last)",
      "Cell \u001b[1;32mIn[3], line 10\u001b[0m\n\u001b[0;32m      6\u001b[0m q3 \u001b[38;5;241m=\u001b[39mout_features\u001b[38;5;241m.\u001b[39mquantile(\u001b[38;5;241m.75\u001b[39m)\n\u001b[0;32m      8\u001b[0m IQR \u001b[38;5;241m=\u001b[39mq3\u001b[38;5;241m-\u001b[39mq1\n\u001b[1;32m---> 10\u001b[0m df2 \u001b[38;5;241m=\u001b[39mdf[\u001b[38;5;241m~\u001b[39m((df \u001b[38;5;241m<\u001b[39m (q1 \u001b[38;5;241m-\u001b[39m (\u001b[38;5;241m1.5\u001b[39m\u001b[38;5;241m*\u001b[39mIQR))) \u001b[38;5;241m|\u001b[39m (df \u001b[38;5;241m>\u001b[39m (q3 \u001b[38;5;241m+\u001b[39m (\u001b[38;5;241m1.5\u001b[39m\u001b[38;5;241m*\u001b[39mIQR))))\u001b[38;5;241m.\u001b[39many(axis \u001b[38;5;241m=\u001b[39m\u001b[38;5;241m1\u001b[39m)]\n",
      "File \u001b[1;32m~\\anaconda3\\Lib\\site-packages\\pandas\\core\\ops\\common.py:81\u001b[0m, in \u001b[0;36m_unpack_zerodim_and_defer.<locals>.new_method\u001b[1;34m(self, other)\u001b[0m\n\u001b[0;32m     77\u001b[0m             \u001b[38;5;28;01mreturn\u001b[39;00m \u001b[38;5;28mNotImplemented\u001b[39m\n\u001b[0;32m     79\u001b[0m other \u001b[38;5;241m=\u001b[39m item_from_zerodim(other)\n\u001b[1;32m---> 81\u001b[0m \u001b[38;5;28;01mreturn\u001b[39;00m method(\u001b[38;5;28mself\u001b[39m, other)\n",
      "File \u001b[1;32m~\\anaconda3\\Lib\\site-packages\\pandas\\core\\arraylike.py:48\u001b[0m, in \u001b[0;36mOpsMixin.__lt__\u001b[1;34m(self, other)\u001b[0m\n\u001b[0;32m     46\u001b[0m \u001b[38;5;129m@unpack_zerodim_and_defer\u001b[39m(\u001b[38;5;124m\"\u001b[39m\u001b[38;5;124m__lt__\u001b[39m\u001b[38;5;124m\"\u001b[39m)\n\u001b[0;32m     47\u001b[0m \u001b[38;5;28;01mdef\u001b[39;00m \u001b[38;5;21m__lt__\u001b[39m(\u001b[38;5;28mself\u001b[39m, other):\n\u001b[1;32m---> 48\u001b[0m     \u001b[38;5;28;01mreturn\u001b[39;00m \u001b[38;5;28mself\u001b[39m\u001b[38;5;241m.\u001b[39m_cmp_method(other, operator\u001b[38;5;241m.\u001b[39mlt)\n",
      "File \u001b[1;32m~\\anaconda3\\Lib\\site-packages\\pandas\\core\\frame.py:7442\u001b[0m, in \u001b[0;36mDataFrame._cmp_method\u001b[1;34m(self, other, op)\u001b[0m\n\u001b[0;32m   7439\u001b[0m \u001b[38;5;28;01mdef\u001b[39;00m \u001b[38;5;21m_cmp_method\u001b[39m(\u001b[38;5;28mself\u001b[39m, other, op):\n\u001b[0;32m   7440\u001b[0m     axis: Literal[\u001b[38;5;241m1\u001b[39m] \u001b[38;5;241m=\u001b[39m \u001b[38;5;241m1\u001b[39m  \u001b[38;5;66;03m# only relevant for Series other case\u001b[39;00m\n\u001b[1;32m-> 7442\u001b[0m     \u001b[38;5;28mself\u001b[39m, other \u001b[38;5;241m=\u001b[39m ops\u001b[38;5;241m.\u001b[39malign_method_FRAME(\u001b[38;5;28mself\u001b[39m, other, axis, flex\u001b[38;5;241m=\u001b[39m\u001b[38;5;28;01mFalse\u001b[39;00m, level\u001b[38;5;241m=\u001b[39m\u001b[38;5;28;01mNone\u001b[39;00m)\n\u001b[0;32m   7444\u001b[0m     \u001b[38;5;66;03m# See GH#4537 for discussion of scalar op behavior\u001b[39;00m\n\u001b[0;32m   7445\u001b[0m     new_data \u001b[38;5;241m=\u001b[39m \u001b[38;5;28mself\u001b[39m\u001b[38;5;241m.\u001b[39m_dispatch_frame_op(other, op, axis\u001b[38;5;241m=\u001b[39maxis)\n",
      "File \u001b[1;32m~\\anaconda3\\Lib\\site-packages\\pandas\\core\\ops\\__init__.py:323\u001b[0m, in \u001b[0;36malign_method_FRAME\u001b[1;34m(left, right, axis, flex, level)\u001b[0m\n\u001b[0;32m    321\u001b[0m \u001b[38;5;28;01mif\u001b[39;00m \u001b[38;5;129;01mnot\u001b[39;00m flex:\n\u001b[0;32m    322\u001b[0m     \u001b[38;5;28;01mif\u001b[39;00m \u001b[38;5;129;01mnot\u001b[39;00m left\u001b[38;5;241m.\u001b[39maxes[axis]\u001b[38;5;241m.\u001b[39mequals(right\u001b[38;5;241m.\u001b[39mindex):\n\u001b[1;32m--> 323\u001b[0m         \u001b[38;5;28;01mraise\u001b[39;00m \u001b[38;5;167;01mValueError\u001b[39;00m(\n\u001b[0;32m    324\u001b[0m             \u001b[38;5;124m\"\u001b[39m\u001b[38;5;124mOperands are not aligned. Do \u001b[39m\u001b[38;5;124m\"\u001b[39m\n\u001b[0;32m    325\u001b[0m             \u001b[38;5;124m\"\u001b[39m\u001b[38;5;124m`left, right = left.align(right, axis=1, copy=False)` \u001b[39m\u001b[38;5;124m\"\u001b[39m\n\u001b[0;32m    326\u001b[0m             \u001b[38;5;124m\"\u001b[39m\u001b[38;5;124mbefore operating.\u001b[39m\u001b[38;5;124m\"\u001b[39m\n\u001b[0;32m    327\u001b[0m         )\n\u001b[0;32m    329\u001b[0m left, right \u001b[38;5;241m=\u001b[39m left\u001b[38;5;241m.\u001b[39malign(\n\u001b[0;32m    330\u001b[0m     right, join\u001b[38;5;241m=\u001b[39m\u001b[38;5;124m\"\u001b[39m\u001b[38;5;124mouter\u001b[39m\u001b[38;5;124m\"\u001b[39m, axis\u001b[38;5;241m=\u001b[39maxis, level\u001b[38;5;241m=\u001b[39mlevel, copy\u001b[38;5;241m=\u001b[39m\u001b[38;5;28;01mFalse\u001b[39;00m\n\u001b[0;32m    331\u001b[0m )\n\u001b[0;32m    332\u001b[0m right \u001b[38;5;241m=\u001b[39m _maybe_align_series_as_frame(left, right, axis)\n",
      "\u001b[1;31mValueError\u001b[0m: Operands are not aligned. Do `left, right = left.align(right, axis=1, copy=False)` before operating."
     ]
    }
   ],
   "source": [
    "import pandas as pd\n",
    "df =pd.read_csv(r\"D:\\Backup\\Old PC\\Chandan\\Data Science\\Python\\Data\\TSLA.csv\")\n",
    "\n",
    "out_features =df[['Open', 'High', 'Low', 'Volume']]\n",
    "\n",
    "# 1st Quantile\n",
    "q1 =out_features.quantile(.25)\n",
    "\n",
    "# 3rd Quantile\n",
    "q3 =out_features.quantile(.75)\n",
    "\n",
    "IQR =q3-q1\n",
    "\n",
    "df2 =df[~((df < (q1 - (1.5*IQR))) | (df > (q3 + (1.5*IQR)))).any(axis =1)]"
   ]
  },
  {
   "cell_type": "code",
   "execution_count": null,
   "id": "c304bef3",
   "metadata": {},
   "outputs": [],
   "source": []
  }
 ],
 "metadata": {
  "kernelspec": {
   "display_name": "Python 3 (ipykernel)",
   "language": "python",
   "name": "python3"
  },
  "language_info": {
   "codemirror_mode": {
    "name": "ipython",
    "version": 3
   },
   "file_extension": ".py",
   "mimetype": "text/x-python",
   "name": "python",
   "nbconvert_exporter": "python",
   "pygments_lexer": "ipython3",
   "version": "3.11.5"
  }
 },
 "nbformat": 4,
 "nbformat_minor": 5
}
